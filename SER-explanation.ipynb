{
 "cells": [
  {
   "cell_type": "code",
   "execution_count": null,
   "metadata": {},
   "outputs": [],
   "source": []
  },
  {
   "cell_type": "markdown",
   "metadata": {},
   "source": [
    "cell 67\n",
    "\n",
    "os.path.join for accessing path\n",
    "[-1] to access last part\n",
    "split to split on basis of symbol given\n",
    "label.lower() for converting all to lower case\n"
   ]
  },
  {
   "cell_type": "markdown",
   "metadata": {},
   "source": [
    "cell 69, 70\n",
    "first 5 labels and paths\n"
   ]
  },
  {
   "cell_type": "markdown",
   "metadata": {},
   "source": [
    "cell 71\n",
    "creating dataframe  from lists\n"
   ]
  },
  {
   "cell_type": "markdown",
   "metadata": {},
   "source": [
    "cell 72\n",
    "to count number of labels"
   ]
  },
  {
   "cell_type": "markdown",
   "metadata": {},
   "source": [
    "cell 50\n",
    "all classes in equal distribution\n",
    "displaying count of all emotion labels"
   ]
  },
  {
   "cell_type": "markdown",
   "metadata": {},
   "source": [
    "cell 55\n",
    "two function for waveplot and spectogram\n",
    "pass (data, sr, emotion)\n",
    "use all plot functions\n",
    "Librosa assists with picturing the sound signs and furthermore does the component extractions in it utilizing different sign handling methods.\n",
    "display submodule of librosa: Perception and show schedules utilizing matplotlib\n",
    "The STFT represents a signal in the time-frequency domain by computing discrete Fourier transforms (DFT) over short overlapping windows.\n"
   ]
  },
  {
   "cell_type": "markdown",
   "metadata": {},
   "source": [
    "cell 52\n",
    "path= df of speech path, filter on basis of emotion label and specify index\n",
    "load audio file and pass the path\n",
    "waveplot and spectogram"
   ]
  },
  {
   "cell_type": "markdown",
   "metadata": {},
   "source": [
    "feature extraction\n",
    "create fnc with filename\n",
    "load filename with librosa, specify duration as all audio has diff duration, offset(it is just simply loading the data of the sound file into an array of values)\n",
    "librosa.feature.mfcc--mfcc feature extraction\n",
    "\n"
   ]
  },
  {
   "cell_type": "markdown",
   "metadata": {},
   "source": [
    "cell 77\n",
    "40 values"
   ]
  },
  {
   "cell_type": "markdown",
   "metadata": {},
   "source": [
    "apply(lambda x:)\n",
    "x is path\n",
    "A lambda function in python is a small anonymous function that can take any number of arguments and execute an expression."
   ]
  },
  {
   "cell_type": "markdown",
   "metadata": {},
   "source": [
    "x.shape==length of data set, column length, third dimension==1\n"
   ]
  },
  {
   "cell_type": "markdown",
   "metadata": {},
   "source": [
    "cell 83\n",
    "y is now a sparse matrix\n",
    "\n",
    "one hot encoder--The input to this transformer should be an array-like of integers or strings, denoting the values taken on by categorical (discrete) features. The features are encoded using a one-hot (aka ‘one-of-K’ or ‘dummy’) encoding scheme. This creates a binary column for each category and returns a sparse matrix or dense array (depending on the sparse_output parameter)"
   ]
  },
  {
   "cell_type": "markdown",
   "metadata": {},
   "source": [
    "we dont do train and test split\n",
    "we directly perform validation split"
   ]
  },
  {
   "cell_type": "markdown",
   "metadata": {},
   "source": [
    "cell 86\n",
    "sequential model has layers where each layer has one output and one input\n"
   ]
  },
  {
   "cell_type": "markdown",
   "metadata": {},
   "source": [
    "lstm--to model time series, holds value\n",
    "dropout--to prevent overfitting of data\n",
    "dense--layer that has all connected nodes"
   ]
  },
  {
   "cell_type": "code",
   "execution_count": null,
   "metadata": {},
   "outputs": [],
   "source": [
    "lstm--"
   ]
  },
  {
   "cell_type": "code",
   "execution_count": null,
   "metadata": {},
   "outputs": [],
   "source": [
    "lstm--\n"
   ]
  }
 ],
 "metadata": {
  "language_info": {
   "name": "python"
  },
  "orig_nbformat": 4
 },
 "nbformat": 4,
 "nbformat_minor": 2
}
